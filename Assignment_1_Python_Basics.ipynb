{
 "cells": [
  {
   "attachments": {},
   "cell_type": "markdown",
   "metadata": {},
   "source": [
    "1. In the below elements which of them are values or an expression? eg:- values can be\n",
    "integer or string and expressions will be mathematical operators.\n",
    "*\n",
    "'hello'\n",
    "-87.8\n",
    "-\n",
    "/\n",
    "+\n",
    "6"
   ]
  },
  {
   "attachments": {},
   "cell_type": "markdown",
   "metadata": {},
   "source": [
    "Ans.\n",
    "\n",
    "* = It is an expression for multiplication.\n",
    "Eg:\n",
    "a=10\n",
    "b=20\n",
    "c=a*b\n",
    "------------------------------------------\n",
    "hello= It is a string. It can be attached to any variable.\n",
    "Eg:\n",
    "Name=\"Rajesh\"\n",
    "------------------------------------------\n",
    "-87.8= It is a negative float.\n",
    "------------------------------------------\n",
    "\n",
    "- = It is a arithmatic operator for subtraction operation.\n",
    "\n",
    "eg:\n",
    "a=10\n",
    "b=5\n",
    "c=a-b\n",
    "------------------------------------------------\n",
    "/ = It does a true division. It takes two inputs and gives float type result.\n",
    "------------------------------------------------\n",
    "+ = It does addition by taking two operands.\n",
    "\n",
    "-----------------------------------------\n",
    "6 = It is an integer."
   ]
  },
  {
   "attachments": {},
   "cell_type": "markdown",
   "metadata": {},
   "source": [
    "2. What is the difference between string and variable?"
   ]
  },
  {
   "attachments": {},
   "cell_type": "markdown",
   "metadata": {},
   "source": [
    "Ans. Variable:\n",
    "            variables can be called as containers (variables are objects).This have an address(memory) attached to it(eg: print(id(variable))).we can store any datavalues in variable.\n",
    "     string:\n",
    "            It is one of the data type, sequence of characters. We can store string in any Variable.strings are not mutable.we can do indexing,slicing operations.\n",
    "\n"
   ]
  },
  {
   "attachments": {},
   "cell_type": "markdown",
   "metadata": {},
   "source": [
    "3. Describe three different data types."
   ]
  },
  {
   "attachments": {},
   "cell_type": "markdown",
   "metadata": {},
   "source": [
    "Ans. following are the built in python data types:\n",
    "        -String data type(str)\n",
    "                -This are stored in any varibles. we write this inside double or single quotes.(eg:\"rajesh is a python developer\")\n",
    "        -Numeric data type(int,fload,long,complex)\n",
    "                -Numeric values comes under this data types.(eg: a=10 , b= 10.56)\n",
    "        -sequence type(lists,tuple)\n",
    "                -we can keep a group of elemets in lists or typle."
   ]
  },
  {
   "attachments": {},
   "cell_type": "markdown",
   "metadata": {},
   "source": [
    "4. What is an expression made up of? What do all expressions do?"
   ]
  },
  {
   "attachments": {},
   "cell_type": "markdown",
   "metadata": {},
   "source": [
    "Ans.\n",
    "        An expression is made up of different operators,operands containg values. Different combinations  of the above elements makes various \n",
    "        expressions.\n",
    "        Eg: arithmatic expressions,bitwise expressions,logical expressions etc.\n",
    "    "
   ]
  },
  {
   "attachments": {},
   "cell_type": "markdown",
   "metadata": {},
   "source": [
    "5. This assignment statements, like spam = 10. What is the difference between an\n",
    "expression and a statement?"
   ]
  },
  {
   "attachments": {},
   "cell_type": "markdown",
   "metadata": {},
   "source": [
    "Ans. we can say that, statements are part of expressions.we may assign the values in statements.we write expression for evaluating some results.\n",
    "    like above statement.\n",
    "    eg:\n",
    "        spam=10\n",
    "        print(type(spam))"
   ]
  },
  {
   "attachments": {},
   "cell_type": "markdown",
   "metadata": {},
   "source": [
    "6. After running the following code, what does the variable bacon contain?\n",
    "bacon = 22\n",
    "bacon + 1"
   ]
  },
  {
   "attachments": {},
   "cell_type": "markdown",
   "metadata": {},
   "source": [
    "bacon=10"
   ]
  },
  {
   "attachments": {},
   "cell_type": "markdown",
   "metadata": {},
   "source": [
    "7. What should the values of the following two terms be?\n",
    "'spam' + 'spamspam'\n",
    "'spam' * 3"
   ]
  },
  {
   "attachments": {},
   "cell_type": "markdown",
   "metadata": {},
   "source": [
    "Ans.\"spamspamspam\"\n",
    "    \"spamspamspam\""
   ]
  },
  {
   "attachments": {},
   "cell_type": "markdown",
   "metadata": {},
   "source": [
    "8. Why is eggs a valid variable name while 100 is invalid?"
   ]
  },
  {
   "attachments": {},
   "cell_type": "markdown",
   "metadata": {},
   "source": [
    "Ans.Egg is a valid variable name because.It starts with alphabet.\n",
    "    100 is not a valid variable as it start with integer.\n",
    "    to be a valid variable\n",
    "    -it should start with either alphabet or spl character $, _.\n",
    "    -can contain integers but should not start with integer.\n",
    "    - variable is a case sensitive.\n",
    "    "
   ]
  },
  {
   "attachments": {},
   "cell_type": "markdown",
   "metadata": {},
   "source": [
    "9. What three functions can be used to get the integer, floating-point number, or string\n",
    "version of a value?"
   ]
  },
  {
   "attachments": {},
   "cell_type": "markdown",
   "metadata": {},
   "source": [
    "Ans. Integer = int()\n",
    "    floating-point number= float()\n",
    "    string= str()"
   ]
  },
  {
   "attachments": {},
   "cell_type": "markdown",
   "metadata": {},
   "source": [
    "10. Why does this expression cause an error? How can you fix it?\n",
    "'I have eaten'  + 99 +  'burritos.'"
   ]
  },
  {
   "attachments": {},
   "cell_type": "markdown",
   "metadata": {},
   "source": [
    "Ans.cant concatinate different data types. first we have to convert integer into string by typecasting."
   ]
  }
 ],
 "metadata": {
  "kernelspec": {
   "display_name": "Python 3",
   "language": "python",
   "name": "python3"
  },
  "language_info": {
   "codemirror_mode": {
    "name": "ipython",
    "version": 3
   },
   "file_extension": ".py",
   "mimetype": "text/x-python",
   "name": "python",
   "nbconvert_exporter": "python",
   "pygments_lexer": "ipython3",
   "version": "3.10.7"
  },
  "orig_nbformat": 4,
  "vscode": {
   "interpreter": {
    "hash": "7179a1c117cc635bafa4019959a000ed6439302801dff12411f6acc3f6834a68"
   }
  }
 },
 "nbformat": 4,
 "nbformat_minor": 2
}
