{
 "cells": [
  {
   "attachments": {},
   "cell_type": "markdown",
   "metadata": {},
   "source": [
    "1.What are the two values of the Boolean data type? How do you write them?"
   ]
  },
  {
   "attachments": {},
   "cell_type": "markdown",
   "metadata": {},
   "source": [
    "Ans. The values (literals) of boolean data type are \"True\" and \"False\".These are used to state whether the condition is true or false. It mainly uses relational or logical operators."
   ]
  },
  {
   "attachments": {},
   "cell_type": "markdown",
   "metadata": {},
   "source": [
    "2. What are the three different types of Boolean operators?"
   ]
  },
  {
   "attachments": {},
   "cell_type": "markdown",
   "metadata": {},
   "source": [
    "Ans. We have three Boolean operators.\n",
    "        - AND\n",
    "        - OR\n",
    "        - NOT"
   ]
  },
  {
   "attachments": {},
   "cell_type": "markdown",
   "metadata": {},
   "source": [
    "3. Make a list of each Boolean operator's truth tables (i.e. every possible combination of Boolean values for the operator and what it evaluate )."
   ]
  },
  {
   "attachments": {},
   "cell_type": "markdown",
   "metadata": {},
   "source": [
    "Ans. I have given the truth tables for AND,OR,NOT.\n",
    "\n",
    "AND truth table\n",
    "\n",
    "condition1|AND|condition2|OUTPUT\n",
    "-|-|-|-\n",
    "TRUE|AND|TRUE|TRUE\n",
    "TRUE|AND|FALSE|FALSE\n",
    "FALSE|AND|TRUE|FALSE\n",
    "FALSE|AND|FALSE|FALSE\n",
    "\n",
    "OR truth table\n",
    "\n",
    "condition1|OR|condition2|OUTPUT\n",
    "-|-|-|-\n",
    "TRUE|OR|FALSE|TRUE\n",
    "TRUE|OR|TRUE|TRUE\n",
    "FALSE|OR|FALSE|FALSE\n",
    "FALSE|OR|TRUE|FALSE\n",
    "\n",
    "NOT truth table\n",
    "\n",
    "NOT|condition|OUTPUT\n",
    "-|-|-\n",
    "NOT|TRUE|FALSE\n",
    "NOT|FALSE|TRUE\n"
   ]
  },
  {
   "attachments": {},
   "cell_type": "markdown",
   "metadata": {},
   "source": [
    "4. What are the values of the following expressions?\n",
    "    - (5 > 4) and (3 == 5)\n",
    "    - not (5 > 4)\n",
    "    - (5 > 4) or (3 == 5)\n",
    "    - not ((5 > 4) or (3 == 5))\n",
    "    - (True and True) and (True == False)\n",
    "    - (not False) or (not True)\n"
   ]
  },
  {
   "attachments": {},
   "cell_type": "markdown",
   "metadata": {},
   "source": [
    "Ans.\n",
    "- FALSE\n",
    "- FALSE\n",
    "- TRUE\n",
    "- FALSE\n",
    "- FALSE\n",
    "- TRUE"
   ]
  },
  {
   "attachments": {},
   "cell_type": "markdown",
   "metadata": {},
   "source": [
    "5. What are the six comparison operators?"
   ]
  },
  {
   "attachments": {},
   "cell_type": "markdown",
   "metadata": {},
   "source": [
    "Ans.\n",
    "- greater than operator > \n",
    "- less than operator <\n",
    "- greater than equal to operator >=\n",
    "- less than equal to operator <=\n",
    "- Assignment operaot ==\n",
    "- Not equal to operator !=\n"
   ]
  },
  {
   "attachments": {},
   "cell_type": "markdown",
   "metadata": {},
   "source": [
    "6. How do you tell the difference between the equal to and assignment operators?Describe a condition and when you would use one."
   ]
  },
  {
   "attachments": {},
   "cell_type": "markdown",
   "metadata": {},
   "source": [
    "Ans. Equal to operator used to enter values into variable where as assignment operator is used for comparison.\n",
    "\n",
    "~~~ python\n",
    "a=10\n",
    "print(a)\n",
    "\n",
    "if a==10:\n",
    "    print(a)\n",
    "else:\n",
    "    print(\"It is not 10\")\n",
    "~~~"
   ]
  },
  {
   "attachments": {},
   "cell_type": "markdown",
   "metadata": {},
   "source": [
    "7. Identify the three blocks in this code:\n",
    "~~~python\n",
    "spam = 0\n",
    "if spam == 10:\n",
    "print('eggs')\n",
    "if spam > 5:\n",
    "print('bacon')\n",
    "else:\n",
    "print('ham')\n",
    "print('spam')\n",
    "print('spam')\n",
    "~~~"
   ]
  },
  {
   "cell_type": "code",
   "execution_count": null,
   "metadata": {},
   "outputs": [],
   "source": [
    "spam=0\n",
    "if spam==10:\n",
    "    print('eggs')\n",
    "elif spam > 5:\n",
    "    print('bacons')\n",
    "else:\n",
    "    print('ham')\n",
    "    print('spam')\n",
    "    print('spam')"
   ]
  },
  {
   "attachments": {},
   "cell_type": "markdown",
   "metadata": {},
   "source": [
    "8. Write code that prints Hello if 1 is stored in spam, prints Howdy if 2 is stored in spam, and prints Greetings! if anything else is stored in spam."
   ]
  },
  {
   "cell_type": "code",
   "execution_count": null,
   "metadata": {},
   "outputs": [],
   "source": [
    "spam=int(input(\"Enter the Number:\"))\n",
    "if spam==1:\n",
    "    print(\"Hello\")\n",
    "elif spam==2:\n",
    "    print(\"Howdy\")\n",
    "else:\n",
    "    print(\"Greetings!\")"
   ]
  },
  {
   "attachments": {},
   "cell_type": "markdown",
   "metadata": {},
   "source": [
    "9.If your programme is stuck in an endless loop, what keys you’ll press?"
   ]
  },
  {
   "attachments": {},
   "cell_type": "markdown",
   "metadata": {},
   "source": [
    "Ans. We can use Ctrl+C"
   ]
  },
  {
   "attachments": {},
   "cell_type": "markdown",
   "metadata": {},
   "source": [
    "10. How can you tell the difference between break and continue?"
   ]
  },
  {
   "attachments": {},
   "cell_type": "markdown",
   "metadata": {},
   "source": [
    "Ans. Its a flow control system in python.Used for terminating the iterations(break) or skip the present iteration(continue)."
   ]
  },
  {
   "attachments": {},
   "cell_type": "markdown",
   "metadata": {},
   "source": [
    "11. In a for loop, what is the difference between range(10), range(0, 10), and range(0, 10, 1)?"
   ]
  },
  {
   "attachments": {},
   "cell_type": "markdown",
   "metadata": {},
   "source": [
    "Ans.\n",
    "- range(10): It means iterations are gonna start with Zero and Nine(first 10 numbers).\n",
    "- range(0,10): It means iterations start with 0 and ends at 9.\n",
    "- range(0, 10, 1): It means iterations start with 0 and ends at 9 and  a step of 1."
   ]
  },
  {
   "attachments": {},
   "cell_type": "markdown",
   "metadata": {},
   "source": [
    "12. Write a short program that prints the numbers 1 to 10 using a for loop. Then write an equivalent program that prints the numbers 1 to 10 using a while loop."
   ]
  },
  {
   "cell_type": "code",
   "execution_count": null,
   "metadata": {},
   "outputs": [],
   "source": [
    "#for loop\n",
    "for i in range(10):\n",
    "    print(i)\n",
    "#while loop\n",
    "a=0\n",
    "while a<10:\n",
    "    print(a)\n",
    "    a=a+1\n",
    "    "
   ]
  },
  {
   "attachments": {},
   "cell_type": "markdown",
   "metadata": {},
   "source": [
    "13. If you had a function named bacon() inside a module named spam, how would you call it after importing spam?"
   ]
  },
  {
   "attachments": {},
   "cell_type": "markdown",
   "metadata": {},
   "source": [
    "Ans. If the module is already we can call it by writing like that.\n",
    "~~~ python\n",
    "import spam\n",
    "spam.bacon()"
   ]
  }
 ],
 "metadata": {
  "kernelspec": {
   "display_name": "Python 3",
   "language": "python",
   "name": "python3"
  },
  "language_info": {
   "codemirror_mode": {
    "name": "ipython",
    "version": 3
   },
   "file_extension": ".py",
   "mimetype": "text/x-python",
   "name": "python",
   "nbconvert_exporter": "python",
   "pygments_lexer": "ipython3",
   "version": "3.10.7"
  },
  "orig_nbformat": 4,
  "vscode": {
   "interpreter": {
    "hash": "7179a1c117cc635bafa4019959a000ed6439302801dff12411f6acc3f6834a68"
   }
  }
 },
 "nbformat": 4,
 "nbformat_minor": 2
}
